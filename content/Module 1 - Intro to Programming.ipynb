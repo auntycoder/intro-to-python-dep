{
 "cells": [
  {
   "cell_type": "markdown",
   "id": "fb4a3c1f",
   "metadata": {},
   "source": [
    "<center><img src=\"https://drive.google.com/uc?id=1e5YfqAENn09l036gteEclPyCz91ecavj\" width=\"100\" height=\"100\"/></center>"
   ]
  },
  {
   "cell_type": "markdown",
   "id": "1d09e78e",
   "metadata": {},
   "source": [
    "# Intro to Programming\n",
    "## `Print` statements, working with variables, and `f` strings\n",
    "\n",
    "Author: AuntyCoder\n",
    "\n",
    "\n",
    "Duration: 1.5 hours"
   ]
  },
  {
   "cell_type": "markdown",
   "id": "70f9b800",
   "metadata": {},
   "source": [
    "Hello Friend! Welcome to your first `Python` Programming class! My name is AuntyCoder, and I love teaching kids coding. There are many benefits to learning coding:\n",
    "* It helps with your logical skills,\n",
    "* It helps with your problem solving skills,\n",
    "* It gives you an edge over everyone else because you can get a job as early as middle school in a dream company of yours!\n",
    "\n",
    "Today we will start with the basic, we will print our names out, I will prompt you on how to go ahead."
   ]
  },
  {
   "cell_type": "markdown",
   "id": "ddb1fa31",
   "metadata": {},
   "source": [
    "## `print`: Printing in Python"
   ]
  },
  {
   "cell_type": "markdown",
   "id": "e9c10b26",
   "metadata": {},
   "source": [
    "Let us print `My name is AuntyCoder` and see the results, you can change AuntyCoder to your name. The `print` command is the first command we are learning, it tells `Python` to print what is in the bracket.\n",
    "\n",
    "> Tip💡: Press `shift` and `enter` on your keyboard so you can see the results of the cell OR click `Run` at the top of your screen.\n",
    "\n",
    "<center><img src=\"https://drive.google.com/uc?id=1uYPCKVlgRJzQFq_8_5eUGhubIJFasjPF\"/></center>"
   ]
  },
  {
   "cell_type": "markdown",
   "id": "521904a6",
   "metadata": {},
   "source": [
    "Let's get to printing our name"
   ]
  },
  {
   "cell_type": "code",
   "execution_count": null,
   "id": "c052b3cb",
   "metadata": {},
   "outputs": [],
   "source": [
    "print(\"My name is AuntyCoder\")"
   ]
  },
  {
   "cell_type": "code",
   "execution_count": null,
   "id": "c51d02e9",
   "metadata": {},
   "outputs": [],
   "source": [
    "#Hey! you can change AuntyCoder to your name, Try it below:\n",
    "\n",
    "print(\"My name is \")"
   ]
  },
  {
   "cell_type": "markdown",
   "id": "cf17273a",
   "metadata": {},
   "source": [
    "How about we print our favorite food."
   ]
  },
  {
   "cell_type": "code",
   "execution_count": null,
   "id": "4cfe519a",
   "metadata": {},
   "outputs": [],
   "source": [
    "print(\"My favorite food is rice\")"
   ]
  },
  {
   "cell_type": "markdown",
   "id": "9a0163ab",
   "metadata": {},
   "source": [
    "We can print our grade too!"
   ]
  },
  {
   "cell_type": "code",
   "execution_count": null,
   "id": "8a2ecc30",
   "metadata": {},
   "outputs": [],
   "source": [
    "print(\"I am in Grade 5\")"
   ]
  },
  {
   "cell_type": "markdown",
   "id": "28c2cad4",
   "metadata": {},
   "source": [
    "Let's make it one sentence."
   ]
  },
  {
   "cell_type": "code",
   "execution_count": null,
   "id": "4991646b",
   "metadata": {},
   "outputs": [],
   "source": [
    "print(\"My name is AuntyCoder, I love rice and I am in Grade 5\")"
   ]
  },
  {
   "cell_type": "markdown",
   "id": "7cba3272",
   "metadata": {},
   "source": [
    "We can also tell `Python` to do our math for us! Let's try a simple Addition problem. We all know `2+2 = 4`. Let's check with `Python`."
   ]
  },
  {
   "cell_type": "code",
   "execution_count": null,
   "id": "4fa05cb5",
   "metadata": {},
   "outputs": [],
   "source": [
    "print(2+2)"
   ]
  },
  {
   "cell_type": "markdown",
   "id": "d78f7526",
   "metadata": {},
   "source": [
    "WOOOW! `Python` is powerful and can work as a calculator too! Did you notice that we did not use the double quotations `\"` when dealing with addition? that is because we are dealing with numbers. When we deal with numbers, and Mathematical formulas, we don't need `\"` but when we are using letters, `Python` needs you to put the letters in `\"`.\n",
    "\n",
    "Does this make sense? Let's try `15-7`, we will expect to see `8`"
   ]
  },
  {
   "cell_type": "code",
   "execution_count": null,
   "id": "2d0e6ac5",
   "metadata": {},
   "outputs": [],
   "source": [
    "print(15-7)"
   ]
  },
  {
   "cell_type": "markdown",
   "id": "23b5552b",
   "metadata": {},
   "source": [
    "It works too! Let's try multiplication, what about `3 X 3`? `Python` uses the `*` sign to recognize a multiplication problems. So we type `print(3*3)`"
   ]
  },
  {
   "cell_type": "code",
   "execution_count": null,
   "id": "453c09e4",
   "metadata": {},
   "outputs": [],
   "source": [
    "print(3*3)"
   ]
  },
  {
   "cell_type": "markdown",
   "id": "e2d13568",
   "metadata": {},
   "source": [
    "And of course, it works for division too. Let us try - `10➗5`. `Python` uses the `/` to recognize division. So it will be `print(10/5)`"
   ]
  },
  {
   "cell_type": "code",
   "execution_count": null,
   "id": "03dc92b6",
   "metadata": {},
   "outputs": [],
   "source": [
    "print(10/5)"
   ]
  },
  {
   "cell_type": "markdown",
   "id": "eded0b38",
   "metadata": {},
   "source": [
    "Try other math problems you have been curious about, like `200,000 + 95,123`.\n",
    "> Tip💡: You can add new cells by clicking `insert` and add cell, above or below.\n",
    "\n",
    "<center><img src=\"https://drive.google.com/uc?id=1kqb9iijb5L83dUib3zWXNJEIUE4ed2R5\"/></center>\n"
   ]
  },
  {
   "cell_type": "markdown",
   "id": "9645459f",
   "metadata": {},
   "source": [
    "**BREAKTIME:** Hey! Good job getting here, it is time for 15 minute break, drink water, stretch your legs and come back to continue!"
   ]
  },
  {
   "cell_type": "markdown",
   "id": "dc41a3ca",
   "metadata": {},
   "source": [
    "## Variables and `f` strings"
   ]
  },
  {
   "cell_type": "markdown",
   "id": "eb7908d1",
   "metadata": {},
   "source": [
    "Remember that we ran `print` statement for our name, age, and current grade in school. But what about we save the name, age, and current grade, so that we can change them later. Your name may not change, but your age will change by your next birthday and your grade will change next year."
   ]
  },
  {
   "cell_type": "markdown",
   "id": "d2edd558",
   "metadata": {},
   "source": [
    "We can save the name in a container, think about the container as a cookie jar. Let's say you have a cookie jar, we can put in Name, Age, and Grade. Let's say that we have 3 different jars:\n",
    "\n",
    "<center><img src=\"https://drive.google.com/uc?id=1L_cd3hmnCVArqS2xNKcvTTd7vB1Teeju\"/></center>"
   ]
  },
  {
   "cell_type": "markdown",
   "id": "bd578019",
   "metadata": {},
   "source": [
    "* In the Green jar, we always have the Name,\n",
    "* the Orange jar always holds the Age\n",
    "* In the blue jar, is our grade jar.\n",
    "\n",
    "For now our jar will only hold our information, in future classes, our jars will hold our friends and siblings information too.\n",
    "\n",
    "We can put each correct information to the colored jars, lets do that in our cookie jar:\n",
    "\n",
    "<center><img src=\"https://drive.google.com/uc?id=1S1YuhCE8ZVA1pTzmv-ejZGcC75UNBcfm\"/></center>\n",
    "\n",
    "These cookie jars are called variables.\n",
    "\n",
    "We have Amy, a 10 year old in Grade 10. So the variables are `Name`, `Age`, `Grade`. How can we do this in `python`?"
   ]
  },
  {
   "cell_type": "code",
   "execution_count": null,
   "id": "de4aed21",
   "metadata": {},
   "outputs": [],
   "source": [
    "name = \"Amy\" #it has to be in double quotations\n",
    "age = 10 # we dont need the double quotation because it is a number\n",
    "grade = \"5th grader\""
   ]
  },
  {
   "cell_type": "markdown",
   "id": "6a95506a",
   "metadata": {},
   "source": [
    "If we want to print a statement with all this information? We can just refer back to the variables!\n",
    "\n",
    "For example, if I want to calculate how old I will be in 5 years, that will be my current age plus 5. We can refer to current age and add 5. So instead of just doing `print(10+5)`. Wherever we have our age, we replace with the variable age. \n",
    "\n",
    "But how?\n",
    "\n",
    "Let's try referring to it:"
   ]
  },
  {
   "cell_type": "code",
   "execution_count": null,
   "id": "b8a5a4f1",
   "metadata": {},
   "outputs": [],
   "source": [
    "print(age+5)"
   ]
  },
  {
   "cell_type": "markdown",
   "id": "1caa207f",
   "metadata": {},
   "source": [
    "IT WORKS!!!"
   ]
  },
  {
   "cell_type": "markdown",
   "id": "43473fb6",
   "metadata": {},
   "source": [
    "What if I wanted to refer to it when saying `my name is amy`, do I just replace with `name`? Well, let's try it out! "
   ]
  },
  {
   "cell_type": "code",
   "execution_count": null,
   "id": "7cd2b66a",
   "metadata": {},
   "outputs": [],
   "source": [
    "print(\"my name is name\")"
   ]
  },
  {
   "cell_type": "markdown",
   "id": "86af0566",
   "metadata": {},
   "source": [
    "Well this will not work, because it doesn't explicitly know how to refer to it. We can use `f` with our print statement, so that it knows that we are referring to the containers outside of the print statement.\n",
    "\n",
    "We will now introduce `f` before the the first `\"`. Let's try it out."
   ]
  },
  {
   "cell_type": "code",
   "execution_count": null,
   "id": "0ee97eee",
   "metadata": {},
   "outputs": [],
   "source": [
    "print(f\"my name is {name}\")"
   ]
  },
  {
   "cell_type": "markdown",
   "id": "d477ce28",
   "metadata": {},
   "source": [
    "Do you see the `{` before `name` and we close it with the `}`? That is so the `f` string knows that we have that variable saved above. Let's try with our age!"
   ]
  },
  {
   "cell_type": "code",
   "execution_count": null,
   "id": "859abe95",
   "metadata": {},
   "outputs": [],
   "source": [
    "print(f\"I am {age} years old!\")"
   ]
  },
  {
   "cell_type": "markdown",
   "id": "73f199cf",
   "metadata": {},
   "source": [
    "You see, we are able to print it easily! Let's put it all together!"
   ]
  },
  {
   "cell_type": "code",
   "execution_count": null,
   "id": "3b8a767e",
   "metadata": {},
   "outputs": [],
   "source": [
    "print(f\"my name is {name}, I am {age} years old! and a {grade}\")"
   ]
  },
  {
   "cell_type": "markdown",
   "id": "1e98bfaf",
   "metadata": {},
   "source": [
    "## Homework\n",
    "Below, save your best friend's name, their favorite food and their favorite color."
   ]
  },
  {
   "cell_type": "markdown",
   "id": "f5c18073",
   "metadata": {},
   "source": [
    "For examples, my bestfriend's name is Beeba, her favorite food is rice, and her favorite color is blue.\n",
    "```\n",
    "best_friend_name = \"Beeba\"\n",
    "favorite_food = \"rice\"\n",
    "favorite_color = \"blue\"\n",
    "\n",
    "```\n"
   ]
  },
  {
   "cell_type": "code",
   "execution_count": null,
   "id": "7c78197c",
   "metadata": {},
   "outputs": [],
   "source": []
  },
  {
   "cell_type": "markdown",
   "id": "b49ccf17",
   "metadata": {},
   "source": [
    "Print out a sentence that says, `\"My best friend's name is Beeba and she can eat rice all day, while wearing her blue shirt\"`\n",
    "\n",
    "Hint: Use an `f` string."
   ]
  },
  {
   "cell_type": "code",
   "execution_count": null,
   "id": "36c599e6",
   "metadata": {},
   "outputs": [],
   "source": [
    "print()"
   ]
  },
  {
   "cell_type": "markdown",
   "id": "ed7a0175",
   "metadata": {},
   "source": [
    "Thank you for getting to this point, If you have any issues or questions, send us a message at auntycoder@gmail.com\n",
    "\n",
    "You learnt:\n",
    "* How to print your name, age and grade\n",
    "* How to run basic mathematics like addition, subtraction, multiplication, and division\n",
    "* How to save your name, age, and grade to a variable\n",
    "* How to refer to them in print statements using `f` strings"
   ]
  },
  {
   "cell_type": "markdown",
   "id": "c4455195",
   "metadata": {},
   "source": [
    "<p style=\"text-align:center\"> GOOD JOB! we have come to the end of lesson 1! </p> "
   ]
  }
 ],
 "metadata": {
  "kernelspec": {
   "display_name": "Python 3 (ipykernel)",
   "language": "python",
   "name": "python3"
  },
  "language_info": {
   "codemirror_mode": {
    "name": "ipython",
    "version": 3
   },
   "file_extension": ".py",
   "mimetype": "text/x-python",
   "name": "python",
   "nbconvert_exporter": "python",
   "pygments_lexer": "ipython3",
   "version": "3.9.7"
  }
 },
 "nbformat": 4,
 "nbformat_minor": 5
}
