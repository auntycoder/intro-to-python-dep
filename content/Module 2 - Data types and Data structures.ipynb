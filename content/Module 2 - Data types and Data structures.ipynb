{
 "cells": [
  {
   "cell_type": "markdown",
   "id": "271c7f34",
   "metadata": {},
   "source": [
    "<center><img src=\"https://drive.google.com/uc?id=1e5YfqAENn09l036gteEclPyCz91ecavj\" width=\"100\" height=\"100\"/></center>"
   ]
  },
  {
   "cell_type": "markdown",
   "id": "89ae6884",
   "metadata": {},
   "source": [
    "# Data Structures\n",
    "\n",
    "Author: AuntyCoder\n",
    "\n",
    "\n",
    "Duration: 2 hours"
   ]
  },
  {
   "cell_type": "markdown",
   "id": "a41ce7b9",
   "metadata": {},
   "source": [
    "Welcome back friend! How did you like the first class? Today is another fun class. We will be digging into Data Structures. Data Structures are ways in which data is saved that `python` understands."
   ]
  },
  {
   "cell_type": "markdown",
   "id": "83b60ef1",
   "metadata": {},
   "source": [
    "## Simple Data Structures\n",
    "\n",
    "We have simple data structures that are just raw values and a simple way to represent data. They are called `primitive` Data Structures and they are most likely familiar to you. Let us go through them:\n",
    "* Integers -> like your whole numbers, for example; `1,2,3,4`\n",
    "* Floats -> like your decimal numbers, for example; `2.2, 3.6, 8.7`\n",
    "* Strings -> like your letters, words, or sentences, for example; your name, your dog's name and remember to use `\"` when you use them, `\"Amy\", \"my name is Amy\"`.\n",
    "* Boolean -> This is represented as `True or False`"
   ]
  },
  {
   "cell_type": "markdown",
   "id": "901b41c6",
   "metadata": {},
   "source": [
    "### Integers\n",
    "You can do mathematical operations like addition, subtraction, multiplication, division and so on. Let's take a look."
   ]
  },
  {
   "cell_type": "code",
   "execution_count": null,
   "id": "cfe040a5",
   "metadata": {},
   "outputs": [],
   "source": [
    "3+3"
   ]
  },
  {
   "cell_type": "code",
   "execution_count": null,
   "id": "e438e85f",
   "metadata": {},
   "outputs": [],
   "source": [
    "3*2"
   ]
  },
  {
   "cell_type": "code",
   "execution_count": null,
   "id": "482a3019",
   "metadata": {},
   "outputs": [],
   "source": [
    "(4-3)*2"
   ]
  },
  {
   "cell_type": "markdown",
   "id": "7e00707f",
   "metadata": {},
   "source": [
    "You can also save the numbers to variables and refer to them later."
   ]
  },
  {
   "cell_type": "code",
   "execution_count": null,
   "id": "643021dc",
   "metadata": {},
   "outputs": [],
   "source": [
    "x = 3\n",
    "print(x)"
   ]
  },
  {
   "cell_type": "code",
   "execution_count": null,
   "id": "8fc1cc78",
   "metadata": {},
   "outputs": [],
   "source": [
    "y = 4\n",
    "print(y)"
   ]
  },
  {
   "cell_type": "code",
   "execution_count": null,
   "id": "822b901b",
   "metadata": {},
   "outputs": [],
   "source": [
    "z = 2\n",
    "print(z)"
   ]
  },
  {
   "cell_type": "markdown",
   "id": "b21184ce",
   "metadata": {},
   "source": [
    "You can use the `type` function to check what kind of data type they are. It will return `<class 'int'>` which means the data belongs to the `integer` class."
   ]
  },
  {
   "cell_type": "code",
   "execution_count": null,
   "id": "921f5876",
   "metadata": {},
   "outputs": [],
   "source": [
    "print(type(x))"
   ]
  },
  {
   "cell_type": "code",
   "execution_count": null,
   "id": "1ce98007",
   "metadata": {},
   "outputs": [],
   "source": [
    "print(type(y))"
   ]
  },
  {
   "cell_type": "code",
   "execution_count": null,
   "id": "7f450ac0",
   "metadata": {},
   "outputs": [],
   "source": [
    "print(type(z))"
   ]
  },
  {
   "cell_type": "code",
   "execution_count": null,
   "id": "84fcbaf0",
   "metadata": {},
   "outputs": [],
   "source": [
    "x+y"
   ]
  },
  {
   "cell_type": "code",
   "execution_count": null,
   "id": "ef60e735",
   "metadata": {},
   "outputs": [],
   "source": [
    "(y*z)+x"
   ]
  },
  {
   "cell_type": "markdown",
   "id": "b8d338f4",
   "metadata": {},
   "source": [
    "### Floats\n",
    "Floats behave similarly to integers, they are decimal numbers. We can also perform mathematical operations on them"
   ]
  },
  {
   "cell_type": "code",
   "execution_count": null,
   "id": "f91dd2f2",
   "metadata": {},
   "outputs": [],
   "source": [
    "3.2+2.1"
   ]
  },
  {
   "cell_type": "code",
   "execution_count": null,
   "id": "19f0a409",
   "metadata": {},
   "outputs": [],
   "source": [
    "8.6*8.6"
   ]
  },
  {
   "cell_type": "code",
   "execution_count": null,
   "id": "bb100860",
   "metadata": {},
   "outputs": [],
   "source": [
    "115.34 - 22.24"
   ]
  },
  {
   "cell_type": "markdown",
   "id": "575abc40",
   "metadata": {},
   "source": [
    "We can also save them to variables to refer to them later."
   ]
  },
  {
   "cell_type": "code",
   "execution_count": null,
   "id": "b1e91e0b",
   "metadata": {},
   "outputs": [],
   "source": [
    "a = 3.2\n",
    "print(a)"
   ]
  },
  {
   "cell_type": "code",
   "execution_count": null,
   "id": "c517e889",
   "metadata": {},
   "outputs": [],
   "source": [
    "b = 8.6"
   ]
  },
  {
   "cell_type": "markdown",
   "id": "d11e2e52",
   "metadata": {},
   "source": [
    "Let's check the type that they are. It will return `<class 'float'>` which means it belongs to the `float` class"
   ]
  },
  {
   "cell_type": "code",
   "execution_count": null,
   "id": "7554f82b",
   "metadata": {},
   "outputs": [],
   "source": [
    "print(type(a))"
   ]
  },
  {
   "cell_type": "code",
   "execution_count": null,
   "id": "9054229c",
   "metadata": {},
   "outputs": [],
   "source": [
    "print(type(b))"
   ]
  },
  {
   "cell_type": "markdown",
   "id": "2448bd84",
   "metadata": {},
   "source": [
    "You can also do mathematical operation on `integers` and `floats` together. When you do that, the answer defaults to floats."
   ]
  },
  {
   "cell_type": "code",
   "execution_count": null,
   "id": "b861198c",
   "metadata": {},
   "outputs": [],
   "source": [
    "3.2*2"
   ]
  },
  {
   "cell_type": "code",
   "execution_count": null,
   "id": "76ae954a",
   "metadata": {},
   "outputs": [],
   "source": [
    "3.5*4"
   ]
  },
  {
   "cell_type": "code",
   "execution_count": null,
   "id": "9892c71d",
   "metadata": {},
   "outputs": [],
   "source": [
    "xy = 4.5*2"
   ]
  },
  {
   "cell_type": "code",
   "execution_count": null,
   "id": "cc03a5a1",
   "metadata": {},
   "outputs": [],
   "source": [
    "print(type(xy))"
   ]
  },
  {
   "cell_type": "markdown",
   "id": "0135b11c",
   "metadata": {},
   "source": [
    "### Boolean"
   ]
  },
  {
   "cell_type": "markdown",
   "id": "cb6cb280",
   "metadata": {},
   "source": [
    "Boolean is `True` or `False`. For example you can ask python, is 1 greater than 2? and it wil return False. Let us try it out."
   ]
  },
  {
   "cell_type": "code",
   "execution_count": null,
   "id": "20fba374",
   "metadata": {},
   "outputs": [],
   "source": [
    "1>2"
   ]
  },
  {
   "cell_type": "markdown",
   "id": "87ea777e",
   "metadata": {},
   "source": [
    "Let's ask python if your age is equal to your sibling's age."
   ]
  },
  {
   "cell_type": "code",
   "execution_count": null,
   "id": "47b72b2d",
   "metadata": {},
   "outputs": [],
   "source": [
    "my_age = 9"
   ]
  },
  {
   "cell_type": "code",
   "execution_count": null,
   "id": "c06896e7",
   "metadata": {},
   "outputs": [],
   "source": [
    "sibling_age = 12"
   ]
  },
  {
   "cell_type": "code",
   "execution_count": null,
   "id": "96fd9ce4",
   "metadata": {},
   "outputs": [],
   "source": [
    "my_age == sibling_age"
   ]
  },
  {
   "cell_type": "markdown",
   "id": "1569d3d9",
   "metadata": {},
   "source": [
    "Except you and your sibling are twins, it will most likely return false. Let's see cases where it is equal to `True`. Let's check if 145 is greater than 99"
   ]
  },
  {
   "cell_type": "code",
   "execution_count": null,
   "id": "1a7a47b1",
   "metadata": {},
   "outputs": [],
   "source": [
    "145 > 99"
   ]
  },
  {
   "cell_type": "markdown",
   "id": "e57c1509",
   "metadata": {},
   "source": [
    "One more try, is 44 * 3 less than 140?"
   ]
  },
  {
   "cell_type": "code",
   "execution_count": null,
   "id": "cd900699",
   "metadata": {},
   "outputs": [],
   "source": [
    "44*3 < 140"
   ]
  },
  {
   "cell_type": "markdown",
   "id": "f7663aa7",
   "metadata": {},
   "source": [
    "**BREAKTIME:** Hey! Good job getting here, it is time for 15 minute break, drink water, stretch your legs and come back to continue!"
   ]
  },
  {
   "cell_type": "markdown",
   "id": "dd95c62f",
   "metadata": {},
   "source": [
    "## Advanced Data Structures"
   ]
  },
  {
   "cell_type": "markdown",
   "id": "5e6855be",
   "metadata": {},
   "source": [
    "Remember the containers? We have been dealing with our container holding only one thing at a time. One container held our name, another one held our age, and the last one held our grade. What if we wanted to add more names into the container? Can we do that? The answer is yes! And there are many ways we can do that. We will start from simple examples today."
   ]
  },
  {
   "cell_type": "markdown",
   "id": "832a8a38",
   "metadata": {},
   "source": [
    "### Tuples\n",
    "Let's start with `Tuples`, they are a kind of data structure. But you can think of them as a container too. Here are 2 things to know about Tuples:\n",
    "* They are the like containers that are sealed and can not be changed once we put something inside. We can only refer to the things in it. For example, everybody in grade 4 will be in grade 4 for one year. Nobody can join or leave (well people can leave, but let's go along with that example.)\n",
    "\n",
    "* `Tuples` are denoted with round brackets like this `()`\n",
    "\n",
    "A tuple can be likened to a cookie jar that has been packed and sealed, nothing gets in or out.\n",
    "\n",
    "<center><img src=\"https://drive.google.com/uc?id=1vTknLWCFaff9MB0HwZ1oroYEcK6SYMtm\"/ width=\"200\" height=\"300\"></center>\n",
    "\n",
    "<center>Photo by <a href=\"https://unsplash.com/@tvieso?utm_source=unsplash&utm_medium=referral&utm_content=creditCopyText\">Travis</a> on <a href=\"https://unsplash.com/photos/gB4LD0MRq0Y?utm_source=unsplash&utm_medium=referral&utm_content=creditCopyText\">Unsplash</a></center>"
   ]
  },
  {
   "cell_type": "markdown",
   "id": "14a09b08",
   "metadata": {},
   "source": [
    "We can save many names inside a `tuple`, or many ages, or many grades. But let us do names first."
   ]
  },
  {
   "cell_type": "code",
   "execution_count": null,
   "id": "7023293d",
   "metadata": {},
   "outputs": [],
   "source": [
    "class_mate_names = (\"Amy\", \"Brian\", \"Chizi\", \"Daivya\", \"Eliza\", \"Fuad\")"
   ]
  },
  {
   "cell_type": "markdown",
   "id": "53c85851",
   "metadata": {},
   "source": [
    "We can also save our best friend's ages in a `tuple` too, assuming we have two best friends, Darren and Kalu"
   ]
  },
  {
   "cell_type": "code",
   "execution_count": null,
   "id": "b3f872e8",
   "metadata": {},
   "outputs": [],
   "source": [
    "best_friends_age = (10, 8)\n",
    "print(best_friends_age)"
   ]
  },
  {
   "cell_type": "markdown",
   "id": "4c323053",
   "metadata": {},
   "source": [
    "### Lists\n",
    "We also have `lists`, they are also containers. \n",
    "\n",
    "* `Lists` can have things added or removed from them. For example, you can add new friends to your container. You can remove your previous age from your container. List is an open container.\n",
    "\n",
    "* `Lists` are denoted with the square brackets `[]`\n",
    "\n",
    "A list can be likened to a cookie jar that can be opened at anytime, you can add cookies, you can remove cookies, or even replace them with another cookie.\n",
    "\n",
    "<center><img src=\"https://drive.google.com/uc?id=1_c16h6QKeE23QtADCScD6GZwOIxLxNd_\"/ width=\"200\" height=\"300\"></center>\n",
    "<center>Photo by <a href=\"https://unsplash.com/@izgubljenausvemiru?utm_source=unsplash&utm_medium=referral&utm_content=creditCopyText\">Tijana Drndarski</a> on <a href=\"https://unsplash.com/photos/Kq1PEA5mzWg?utm_source=unsplash&utm_medium=referral&utm_content=creditCopyText\">Unsplash</a></center>"
   ]
  },
  {
   "cell_type": "markdown",
   "id": "4b572d1e",
   "metadata": {},
   "source": [
    "Let us take an example of a list, where we save our best friend's names."
   ]
  },
  {
   "cell_type": "code",
   "execution_count": null,
   "id": "2853d4d4",
   "metadata": {},
   "outputs": [],
   "source": [
    "best_friends_names = [\"Darren\", \"Kalu\"]\n",
    "print(best_friends_names)"
   ]
  },
  {
   "cell_type": "markdown",
   "id": "58dec5f8",
   "metadata": {},
   "source": [
    "We can add `Amy` to our bestfriend list by doing the following, we will learn more about it in the next lecture."
   ]
  },
  {
   "cell_type": "code",
   "execution_count": null,
   "id": "ed0b0653",
   "metadata": {},
   "outputs": [],
   "source": [
    "best_friends_names.append(\"Amy\")\n",
    "print(best_friends_names)"
   ]
  },
  {
   "cell_type": "markdown",
   "id": "d7b84909",
   "metadata": {},
   "source": [
    "Now you can see Amy is added to the list!"
   ]
  },
  {
   "cell_type": "markdown",
   "id": "fbf9cc01",
   "metadata": {},
   "source": [
    "### Dictionaries\n",
    "\n",
    "`Dictionaries` are great! They are like super containers;\n",
    "* They can hold many information at once. For example, we can save, our name, age, grade, number of pets etc!\n",
    "* They are denoted with this curly brackets `{}`"
   ]
  },
  {
   "cell_type": "code",
   "execution_count": null,
   "id": "be661eac",
   "metadata": {},
   "outputs": [],
   "source": [
    "my_info = {\"Name\":\"Amy\", \"Age\": 10, \"Grade\": \"6th grade\", \"Pets\":2}"
   ]
  },
  {
   "cell_type": "markdown",
   "id": "e2b40ba5",
   "metadata": {},
   "source": [
    "We can get your name by doing the following"
   ]
  },
  {
   "cell_type": "code",
   "execution_count": null,
   "id": "276ce3e8",
   "metadata": {},
   "outputs": [],
   "source": [
    "print(my_info[\"Name\"])"
   ]
  },
  {
   "cell_type": "markdown",
   "id": "2435646f",
   "metadata": {},
   "source": [
    "We can get your number of pets by changing Name to Pets"
   ]
  },
  {
   "cell_type": "code",
   "execution_count": null,
   "id": "a4ca660f",
   "metadata": {},
   "outputs": [],
   "source": [
    "print(my_info[\"Pets\"])"
   ]
  },
  {
   "cell_type": "markdown",
   "id": "496bbad6",
   "metadata": {},
   "source": [
    "You can get any of your info! Try getting your age."
   ]
  },
  {
   "cell_type": "code",
   "execution_count": null,
   "id": "09279685",
   "metadata": {},
   "outputs": [],
   "source": []
  },
  {
   "cell_type": "markdown",
   "id": "c97b8fb6",
   "metadata": {},
   "source": [
    "Let's save our classmates names and ages"
   ]
  },
  {
   "cell_type": "code",
   "execution_count": null,
   "id": "dc823206",
   "metadata": {},
   "outputs": [],
   "source": [
    "classmate_info = {\"Amy\":10, \"Brian\": 9, \"Chizi\": 11, \"Daivya\":10, \"Eliza\":9, \"Fuad\":11}"
   ]
  },
  {
   "cell_type": "markdown",
   "id": "5cfa7707",
   "metadata": {},
   "source": [
    "We can get Fuad's age by doing the following"
   ]
  },
  {
   "cell_type": "code",
   "execution_count": null,
   "id": "51467eae",
   "metadata": {},
   "outputs": [],
   "source": [
    "print(classmate_info[\"Fuad\"])"
   ]
  },
  {
   "cell_type": "markdown",
   "id": "3786abdd",
   "metadata": {},
   "source": [
    "Try getting `Daivya` age"
   ]
  },
  {
   "cell_type": "code",
   "execution_count": null,
   "id": "379e3280",
   "metadata": {},
   "outputs": [],
   "source": []
  },
  {
   "cell_type": "markdown",
   "id": "686fe87c",
   "metadata": {},
   "source": [
    "Add your friends from school below and their backpack color"
   ]
  },
  {
   "cell_type": "code",
   "execution_count": null,
   "id": "c89754d3",
   "metadata": {},
   "outputs": [],
   "source": []
  },
  {
   "cell_type": "markdown",
   "id": "2a6ec9bf",
   "metadata": {},
   "source": [
    "Welldone! You are done with another lesson. If you have any issues, send us a message at auntycoder@gmail.com\n",
    "\n",
    "\n",
    "We learnt how different kinds of data structures;\n",
    "* Number types: Integers and Floats\n",
    "* Word/Letter types: Strings\n",
    "* True or False: Boolean\n",
    "* Sealed containers: Tuples\n",
    "* Unsealed containers: Lists\n",
    "* Super containers: Dictionaries\n",
    "\n",
    "\n",
    "In our next class we will do some more advanced coding with our what we learnt. We will learn to point to the information in the variables.\n",
    "\n",
    "<p style=\"text-align:center\"> GOOD JOB! we have come to the end of lesson 2! </p> "
   ]
  }
 ],
 "metadata": {
  "kernelspec": {
   "display_name": "Python 3 (ipykernel)",
   "language": "python",
   "name": "python3"
  },
  "language_info": {
   "codemirror_mode": {
    "name": "ipython",
    "version": 3
   },
   "file_extension": ".py",
   "mimetype": "text/x-python",
   "name": "python",
   "nbconvert_exporter": "python",
   "pygments_lexer": "ipython3",
   "version": "3.9.7"
  }
 },
 "nbformat": 4,
 "nbformat_minor": 5
}
