{
 "cells": [
  {
   "cell_type": "markdown",
   "id": "b7072692",
   "metadata": {},
   "source": [
    "<center><img src=\"https://drive.google.com/uc?id=1e5YfqAENn09l036gteEclPyCz91ecavj\" width=\"100\" height=\"100\"/></center>"
   ]
  },
  {
   "cell_type": "markdown",
   "id": "dfac2073",
   "metadata": {},
   "source": [
    "# Working with Tuples, Lists, and Dictionaries"
   ]
  },
  {
   "cell_type": "markdown",
   "id": "80eb5992",
   "metadata": {},
   "source": [
    "Author: AuntyCoder\n",
    "\n",
    "\n",
    "Duration: 1.5 hours"
   ]
  },
  {
   "cell_type": "markdown",
   "id": "aab089c0",
   "metadata": {},
   "source": [
    "Welcome again friends! Do you remember last class we learnt about different kinds of bigger containers. \n",
    "\n",
    "- We talked about `Tuples`, that work as sealed containers, we can't add or remove any content once we seal it.\n",
    "- We talked about `Lists`, that work as an unsealed container, we can add, remove, replace the contents at any time\n",
    "- We also talked about `Dictionaries` they also work as an unsealed container but better, you can pair each content in the dictionary with a key that we use to identify the values."
   ]
  },
  {
   "cell_type": "markdown",
   "id": "ebf81c0b",
   "metadata": {},
   "source": [
    "We will start with understanding an important concept in Python called indexing"
   ]
  },
  {
   "cell_type": "markdown",
   "id": "00c8796a",
   "metadata": {},
   "source": [
    "## Indexing"
   ]
  },
  {
   "cell_type": "markdown",
   "id": "10d03a51",
   "metadata": {},
   "source": [
    "<center><img src=\"https://drive.google.com/uc?id=1vM9MpLnDw-rCp57HoqyVzLq8Xf6lmSpY\" width=\"300\" height=\"300\"/></center>"
   ]
  },
  {
   "cell_type": "markdown",
   "id": "7e787e58",
   "metadata": {},
   "source": [
    "When we run races in school or in a competition, the first person to cross the finish line is 1st, the second person to cross the finish line is 2nd, the person who crosses third is 3rd, and so on. \n",
    "\n",
    "In python it is slightly different, 0 is the first number. So the person who crosses the finish line first is actually the `0th` position and the second to cross is the `1st`, the third to cross is the 2nd, etc as shown below in the picture below:"
   ]
  },
  {
   "cell_type": "markdown",
   "id": "78323873",
   "metadata": {},
   "source": [
    "<center><img src=\"https://drive.google.com/uc?id=1EfY0M8wHCr4DcpcJUhIpq76lntcpGunL\" width=\"600\" height=\"300\"/></center>"
   ]
  },
  {
   "cell_type": "markdown",
   "id": "cb89cefd",
   "metadata": {},
   "source": [
    "In python, we start the numbering from 0, so when we have a list with our favorite fruits, we start counting the position from 0,1,2 etc. Let us look at an example, using popular fruits in our pantries. We will start with a strawberry 🍓"
   ]
  },
  {
   "cell_type": "code",
   "execution_count": null,
   "id": "0c46e9d3",
   "metadata": {},
   "outputs": [],
   "source": [
    "list1 = [\"🍓\"]"
   ]
  },
  {
   "cell_type": "markdown",
   "id": "b8e1b786",
   "metadata": {},
   "source": [
    "We can get the position of the strawberry by using `index`, we will learn more about index in the list section too. But `index` returns the position of the fruit in the list."
   ]
  },
  {
   "cell_type": "code",
   "execution_count": null,
   "id": "8f2f0cc6",
   "metadata": {},
   "outputs": [],
   "source": [
    "print(list1.index(\"🍓\"))"
   ]
  },
  {
   "cell_type": "markdown",
   "id": "1abbd011",
   "metadata": {},
   "source": [
    "It returns 0, since it is in the first position, let us add another fruit, we will add a mandarine 🍊."
   ]
  },
  {
   "cell_type": "code",
   "execution_count": null,
   "id": "0be71493",
   "metadata": {},
   "outputs": [],
   "source": [
    "list2 = [\"🍓\", \"🍊\"]"
   ]
  },
  {
   "cell_type": "markdown",
   "id": "b17acab1",
   "metadata": {},
   "source": [
    "What do we think the position of the mandarine is? Yes, it will be 1. Let us try it out"
   ]
  },
  {
   "cell_type": "code",
   "execution_count": null,
   "id": "df6b0760",
   "metadata": {},
   "outputs": [],
   "source": [
    "print(list2.index(\"🍊\"))"
   ]
  },
  {
   "cell_type": "markdown",
   "id": "0a219b80",
   "metadata": {},
   "source": [
    "Let us add a mango 🥭! what position do you think it will be in? it will be 2"
   ]
  },
  {
   "cell_type": "code",
   "execution_count": null,
   "id": "b6a28595",
   "metadata": {},
   "outputs": [],
   "source": [
    "list3 = [\"🍓\", \"🍊\", \"🥭\"]"
   ]
  },
  {
   "cell_type": "code",
   "execution_count": null,
   "id": "3b7c9cb6",
   "metadata": {},
   "outputs": [],
   "source": [
    "print(list3.index(\"🥭\"))"
   ]
  },
  {
   "cell_type": "markdown",
   "id": "32e4a4d5",
   "metadata": {},
   "source": [
    "Let us do one more and add a pineapple 🍍. The pineapple will be in position or index 3 "
   ]
  },
  {
   "cell_type": "code",
   "execution_count": null,
   "id": "aeba29f2",
   "metadata": {},
   "outputs": [],
   "source": [
    "list4 = [\"🍓\", \"🍊\", \"🥭\", \"🍍\"]"
   ]
  },
  {
   "cell_type": "code",
   "execution_count": null,
   "id": "a2d4c6d0",
   "metadata": {},
   "outputs": [],
   "source": [
    "print(list4.index(\"🍍\"))"
   ]
  },
  {
   "cell_type": "markdown",
   "id": "338fcdcf",
   "metadata": {},
   "source": [
    "So we can see how indexing and positioning works in python. In python we start counting from 0, 1, 2, 3. So whenever you start your coding class, remember that 0 is the 1st number! Let us summarize our fruits:\n",
    "\n",
    "<center><img src=\"https://drive.google.com/uc?id=1M1vR77UBV57fYmNdONHyu1cf0S7ms-Gc\" width=\"400\"/></center>"
   ]
  },
  {
   "cell_type": "markdown",
   "id": "589e1f8b",
   "metadata": {},
   "source": [
    "Let us look at one more example list with 6 fruits before we wrap up. What position is the watermelon 🍉? It will be position 3. Because we count from 0"
   ]
  },
  {
   "cell_type": "code",
   "execution_count": null,
   "id": "c948c4bf",
   "metadata": {},
   "outputs": [],
   "source": [
    "all_fruits = [\"🍓\", \"🍍\",\"🍊\", \"🍉\", \"🥭\", \"🍇\"]\n"
   ]
  },
  {
   "cell_type": "code",
   "execution_count": null,
   "id": "ebfd99cf",
   "metadata": {},
   "outputs": [],
   "source": [
    "print(all_fruits.index(\"🍉\"))"
   ]
  },
  {
   "cell_type": "markdown",
   "id": "ab0adce5",
   "metadata": {},
   "source": [
    "Remember in this example,\n",
    "\n",
    "\n",
    "🍓 - 0th position\n",
    "\n",
    "\n",
    "🍍 - 1st position\n",
    "\n",
    "\n",
    "🍊 - 2nd position\n",
    "\n",
    "\n",
    "🍉 - 3rd position\n",
    "\n",
    "\n",
    "🥭 - 4th position\n",
    "\n",
    "\n",
    "🍇 - 5th position"
   ]
  },
  {
   "cell_type": "markdown",
   "id": "5a8752a2",
   "metadata": {},
   "source": [
    "Now we understand indexing, Let's go deeper into how to use each of these different kinds of containers"
   ]
  },
  {
   "cell_type": "markdown",
   "id": "3ed8ece8",
   "metadata": {},
   "source": [
    "## Tuples\n",
    "\n",
    "We will start again with Tuples. Remember `tuples` are represented with the `()`. Now let's assume we keep our favorite fruits in a sealed jar (or tuple). Assuming you saved up **2 blackberries, 1 blueberry and 3 strawberries.**\n",
    "\n",
    "Each of these fruits are saved in the `tuples` are called `elements`"
   ]
  },
  {
   "cell_type": "code",
   "execution_count": null,
   "id": "a43961f6",
   "metadata": {},
   "outputs": [],
   "source": [
    "favorite_fruits = (\"blackberry\", \"blueberry\", \"strawberry\", \"blackberry\", \"strawberry\", \"strawberry\")"
   ]
  },
  {
   "cell_type": "markdown",
   "id": "e93e90d0",
   "metadata": {},
   "source": [
    "If this is a sealed container, what can we do with the information in the jar?\n",
    "\n",
    "You can do the following:\n",
    "1. count how many of each type of fruits you have\n",
    "2. find what position each of these fruits are, for example, blackberry, is in position 0 and 3\n",
    "3. get the total number of fruits in the jar"
   ]
  },
  {
   "cell_type": "markdown",
   "id": "1aa6f8bb",
   "metadata": {},
   "source": [
    "1. Let's **count** how many blackberries we have in our tuple, we will expect 2. We will use `count` on the tuple and specify which item we are looking for."
   ]
  },
  {
   "cell_type": "code",
   "execution_count": null,
   "id": "94ee9880",
   "metadata": {},
   "outputs": [],
   "source": [
    "print(favorite_fruits.count(\"blackberry\"))"
   ]
  },
  {
   "cell_type": "markdown",
   "id": "781f3a58",
   "metadata": {},
   "source": [
    "Let's count how many blueberries we have in our tuple, we will expect 1"
   ]
  },
  {
   "cell_type": "code",
   "execution_count": null,
   "id": "d4192f3d",
   "metadata": {
    "scrolled": true
   },
   "outputs": [],
   "source": [
    "print(favorite_fruits.count(\"blueberry\"))"
   ]
  },
  {
   "cell_type": "markdown",
   "id": "c7b12bb3",
   "metadata": {},
   "source": [
    "You try it, how many strawberries do you have?"
   ]
  },
  {
   "cell_type": "markdown",
   "id": "5ec98145",
   "metadata": {},
   "source": [
    "2. Let's find the **position** the strawberries are in. Here we will use `index` to find the answer to that."
   ]
  },
  {
   "cell_type": "code",
   "execution_count": null,
   "id": "331c97dd",
   "metadata": {},
   "outputs": [],
   "source": [
    "print(favorite_fruits.index(\"strawberry\"))"
   ]
  },
  {
   "cell_type": "markdown",
   "id": "55dacf45",
   "metadata": {},
   "source": [
    "😲 Do you notice something funny? We know it is in 2, 4, and 5 but it gave us only one value. This is because it stops when it finds the first answer. How can we get the position for the remaining strawberries?\n",
    "\n",
    "One very easy way is to check after the first index, since we have used `count` and we know there are 3 strawberries we can specify index to start after the last strawberry it found."
   ]
  },
  {
   "cell_type": "code",
   "execution_count": null,
   "id": "36d5bca5",
   "metadata": {},
   "outputs": [],
   "source": [
    "print(favorite_fruits.index(\"strawberry\", 3, 7))"
   ]
  },
  {
   "cell_type": "code",
   "execution_count": null,
   "id": "8aa94f1a",
   "metadata": {},
   "outputs": [],
   "source": [
    "print(favorite_fruits.index(\"strawberry\", 5, 7))"
   ]
  },
  {
   "cell_type": "markdown",
   "id": "512683e4",
   "metadata": {},
   "source": [
    "3. Let's find the **total number** of fruits in the jar. Here we use the `len` to get the length of the `tuple`."
   ]
  },
  {
   "cell_type": "code",
   "execution_count": null,
   "id": "f19b07cf",
   "metadata": {},
   "outputs": [],
   "source": [
    "print(len(favorite_fruits))"
   ]
  },
  {
   "cell_type": "markdown",
   "id": "9b9b2f09",
   "metadata": {},
   "source": [
    "Remember `f` strings? we can make this more fun by using `f` strings."
   ]
  },
  {
   "cell_type": "code",
   "execution_count": null,
   "id": "26311340",
   "metadata": {},
   "outputs": [],
   "source": [
    "print(f\"There are {len(favorite_fruits)} of my favorite fruits in the tuple\")"
   ]
  },
  {
   "cell_type": "markdown",
   "id": "b393c072",
   "metadata": {},
   "source": [
    "## Lists\n",
    "\n",
    "Let us go into `lists`, remember lists are represented by `[]`. We will save our favorite desserts in the list. Just like tuples, each of the desserts saved in the `list` are called `elements`"
   ]
  },
  {
   "cell_type": "code",
   "execution_count": null,
   "id": "97d368e6",
   "metadata": {},
   "outputs": [],
   "source": [
    "favorite_desserts = [\"oreo\", \"cookie\", \"muffin\"]"
   ]
  },
  {
   "cell_type": "markdown",
   "id": "eadd7dde",
   "metadata": {},
   "source": [
    "Since the list is a container that is unsealed we can do many things.\n",
    "\n",
    "Let's start by creating a copy of our list. We use the `copy` in python to do that"
   ]
  },
  {
   "cell_type": "code",
   "execution_count": null,
   "id": "ebf5c9e3",
   "metadata": {},
   "outputs": [],
   "source": [
    "copy_dessert = favorite_desserts.copy()\n",
    "print(copy_dessert)"
   ]
  },
  {
   "cell_type": "markdown",
   "id": "b9bb66e1",
   "metadata": {},
   "source": [
    "We will add a new dessert since we forgot to add before, we will use the `append` function. We forgot to add ice-cream so we will just take our list and append the ice-cream to our favorite desserts container"
   ]
  },
  {
   "cell_type": "code",
   "execution_count": null,
   "id": "dfb75469",
   "metadata": {},
   "outputs": [],
   "source": [
    "favorite_desserts.append(\"ice-cream\")\n",
    "print(favorite_desserts)"
   ]
  },
  {
   "cell_type": "markdown",
   "id": "d9d9fee2",
   "metadata": {},
   "source": [
    "We now have ice-cream in our list!"
   ]
  },
  {
   "cell_type": "markdown",
   "id": "6bb48359",
   "metadata": {},
   "source": [
    "What if we want to add another dessert, but this time, we want to add it after the `oreo`? We can use `insert` on the list. Remember oreo is at index 0, cookies is at index 1, now we want the new dessert, let's call it a yogurt at index 1. We will specify it in the `insert` function."
   ]
  },
  {
   "cell_type": "code",
   "execution_count": null,
   "id": "b692658d",
   "metadata": {},
   "outputs": [],
   "source": [
    "favorite_desserts.insert(1, \"yogurt\")\n",
    "print(favorite_desserts)"
   ]
  },
  {
   "cell_type": "markdown",
   "id": "cad783c2",
   "metadata": {},
   "source": [
    "We can reverse the list, so the last dessert will be the first dessert, the second to last dessert will be the second dessert and in our example; we will go from:\n",
    "\n",
    "`['oreo', 'yogurt', 'cookies', 'muffins', 'ice-cream']` to `['ice-cream', 'muffins', 'cookies', 'yogurt', 'oreo']` but it will not save unless we save it to a variable"
   ]
  },
  {
   "cell_type": "code",
   "execution_count": null,
   "id": "71528bd4",
   "metadata": {},
   "outputs": [],
   "source": [
    "favorite_desserts.reverse()\n",
    "print(favorite_desserts)"
   ]
  },
  {
   "cell_type": "markdown",
   "id": "175ddc76",
   "metadata": {},
   "source": [
    "Similar to tuples, We can count how many of each types of dessert are in the list. We will use `count` to get the number of muffins in the list"
   ]
  },
  {
   "cell_type": "code",
   "execution_count": null,
   "id": "22caba5f",
   "metadata": {},
   "outputs": [],
   "source": [
    "favorite_desserts.count(\"muffin\")"
   ]
  },
  {
   "cell_type": "markdown",
   "id": "a4f4fe94",
   "metadata": {},
   "source": [
    "We can save the number of muffins in a variable, just like we will save our favorite food or our grade. We do this so we can refer to it later. We can refer to it using an `f` string to print it out with some fun info!"
   ]
  },
  {
   "cell_type": "code",
   "execution_count": null,
   "id": "6d26bae3",
   "metadata": {},
   "outputs": [],
   "source": [
    "muffin_count = favorite_desserts.count(\"muffin\")"
   ]
  },
  {
   "cell_type": "code",
   "execution_count": null,
   "id": "a625e775",
   "metadata": {},
   "outputs": [],
   "source": [
    "print(f\"There is {muffin_count} muffin in the list\")"
   ]
  },
  {
   "cell_type": "markdown",
   "id": "11872803",
   "metadata": {},
   "source": [
    "Try it for cookie - print it out with some fun info"
   ]
  },
  {
   "cell_type": "code",
   "execution_count": null,
   "id": "28ae6b3b",
   "metadata": {},
   "outputs": [],
   "source": []
  },
  {
   "cell_type": "markdown",
   "id": "3257a0bd",
   "metadata": {},
   "source": [
    "We can also get the position of our desserts using `index`. Remember, the first element starts from 0, the send is 1 and so on. So we will get where cookie is. It is will at position 2"
   ]
  },
  {
   "cell_type": "code",
   "execution_count": null,
   "id": "b66d4f7d",
   "metadata": {},
   "outputs": [],
   "source": [
    "favorite_desserts.index(\"cookie\")"
   ]
  },
  {
   "cell_type": "code",
   "execution_count": null,
   "id": "e91e2dd1",
   "metadata": {},
   "outputs": [],
   "source": [
    "cookie_position = favorite_desserts.index(\"cookie\")\n",
    "print(f\"My cookie is in position {cookie_position} in the list\")"
   ]
  },
  {
   "cell_type": "markdown",
   "id": "fd18a18f",
   "metadata": {},
   "source": [
    "What about Yogurt? - your try it"
   ]
  },
  {
   "cell_type": "code",
   "execution_count": null,
   "id": "6f47f2d7",
   "metadata": {},
   "outputs": [],
   "source": []
  },
  {
   "cell_type": "markdown",
   "id": "b52b2a60",
   "metadata": {},
   "source": [
    "Finally, we can remove desserts we don't want anymore. For example, I want to take out oreo. We will use `remove` to take it out."
   ]
  },
  {
   "cell_type": "code",
   "execution_count": null,
   "id": "1e869a12",
   "metadata": {},
   "outputs": [],
   "source": [
    "favorite_desserts.remove(\"oreo\")\n",
    "print(favorite_desserts)"
   ]
  },
  {
   "cell_type": "markdown",
   "id": "43d85ca0",
   "metadata": {},
   "source": [
    "We no longer have oreo in our list anymore!"
   ]
  },
  {
   "cell_type": "markdown",
   "id": "523d1a66",
   "metadata": {},
   "source": [
    "Thank you for getting to this point, If you have any issues or questions, send us a message at auntycoder@gmail.com\n",
    "\n",
    "You learnt:\n",
    "\n",
    "- That python starts counting from 0 instead of 1, so the first object in python is 0,\n",
    "- How to count different elements in a tuple,\n",
    "- How to get the total number of elements in a tuple,\n",
    "- How to get the position of an element in a tuple,\n",
    "- How to copy a list and save it to another variable,\n",
    "- How to add new elements to a list,\n",
    "- How to insert a new element to a particular position in a list,\n",
    "- How to reverse a list so that the first element is now backwards,\n",
    "- How to count different elements in a list,\n",
    "- How to get the position of an element in a list,\n",
    "- How to remove elements that you no longer need from a list! \n",
    "\n",
    "Great job kiddo! You are amazing!"
   ]
  }
 ],
 "metadata": {
  "kernelspec": {
   "display_name": "Python 3 (ipykernel)",
   "language": "python",
   "name": "python3"
  },
  "language_info": {
   "codemirror_mode": {
    "name": "ipython",
    "version": 3
   },
   "file_extension": ".py",
   "mimetype": "text/x-python",
   "name": "python",
   "nbconvert_exporter": "python",
   "pygments_lexer": "ipython3",
   "version": "3.9.7"
  }
 },
 "nbformat": 4,
 "nbformat_minor": 5
}
