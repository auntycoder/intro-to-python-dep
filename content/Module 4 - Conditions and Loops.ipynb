{
 "cells": [
  {
   "cell_type": "markdown",
   "id": "fe03e68b",
   "metadata": {},
   "source": [
    "<center><img src=\"https://drive.google.com/uc?id=1e5YfqAENn09l036gteEclPyCz91ecavj\" width=\"100\" height=\"100\"/></center>"
   ]
  },
  {
   "cell_type": "markdown",
   "id": "88b71fa3",
   "metadata": {},
   "source": [
    "# `if`, `elif`, and `else` statements and `for` loops"
   ]
  },
  {
   "cell_type": "markdown",
   "id": "1d06c374",
   "metadata": {},
   "source": [
    "Author: AuntyCoder\n",
    "\n",
    "\n",
    "Duration: 1.5 hours\n",
    "\n",
    "Welcome back friends! How did you enjoy the last lesson? Today we will be going through the concepts of `if` statements and `for` loops."
   ]
  },
  {
   "cell_type": "markdown",
   "id": "cf1afc04",
   "metadata": {},
   "source": [
    "## `if` and `else` statements"
   ]
  },
  {
   "cell_type": "markdown",
   "id": "6b49a816",
   "metadata": {},
   "source": [
    "`if` statements are known as conditionals, this means that if you have a situation it checks to see if it is present or true and then an action happens. Let us take a look at an example. \n",
    "\n",
    "If today is a weekday (Monday, Tuesday, Wednessday, Thursday, or Friday), then we go to school. If it is not a week day then we will go to the park.\n",
    "\n",
    "So If today is a weekday we will go to school. Else we will go to the park!"
   ]
  },
  {
   "cell_type": "markdown",
   "id": "3a04bda8",
   "metadata": {},
   "source": [
    "<center><img src=\"https://drive.google.com/uc?id=1sKqQWiLHYQMOVuS6u_wRLx1VMMn7QvfQ\" /></center>"
   ]
  },
  {
   "cell_type": "markdown",
   "id": "6870803a",
   "metadata": {},
   "source": [
    "Let us take a look at that in code. Let us look at the exact example in the diagram. So if today is Monday, Tuesday, Wednessday, Thursday, or Friday put `weekday` if today is Saturday or Sunday type `weekend`."
   ]
  },
  {
   "cell_type": "code",
   "execution_count": 2,
   "id": "89e74e63",
   "metadata": {
    "scrolled": true
   },
   "outputs": [
    {
     "name": "stdout",
     "output_type": "stream",
     "text": [
      "Is today a weekday or a weekend?weekend\n",
      "Go to the park\n"
     ]
    }
   ],
   "source": [
    "message=input(\"Is today a weekday or a weekend?\") \n",
    "\n",
    "if message ==\"weekday\": \n",
    "    print(\"Get ready and go to school!\") \n",
    "else: \n",
    "    print(\"Go to the park\") "
   ]
  },
  {
   "cell_type": "markdown",
   "id": "c86acaa9",
   "metadata": {},
   "source": [
    "Let us look at an another example with integers and floats. Remember integers are whole numbers and floats are decimal numbers.\n",
    "\n",
    "Let check if 3 is greater that 4"
   ]
  },
  {
   "cell_type": "code",
   "execution_count": 4,
   "id": "31ddd646",
   "metadata": {},
   "outputs": [
    {
     "name": "stdout",
     "output_type": "stream",
     "text": [
      "No, 3 is not greater than 4\n"
     ]
    }
   ],
   "source": [
    "if 3>4:\n",
    "    print(\"Yes, 3 is greater than 4\")\n",
    "else:\n",
    "    print(\"No, 3 is not greater than 4\")"
   ]
  },
  {
   "cell_type": "markdown",
   "id": "93e8d099",
   "metadata": {},
   "source": [
    "How about we check if 10.5 is equal to 15.2. In python, to check that, we use two equal to sign like thsi `==`"
   ]
  },
  {
   "cell_type": "code",
   "execution_count": 5,
   "id": "2de6c90e",
   "metadata": {},
   "outputs": [
    {
     "name": "stdout",
     "output_type": "stream",
     "text": [
      "10.5 and 15.2 are not equal\n"
     ]
    }
   ],
   "source": [
    "if 10.5 == 15.2:\n",
    "    print(\"10.5 is equal to 15.2\")\n",
    "else:\n",
    "    print(\"10.5 and 15.2 are not equal\")"
   ]
  },
  {
   "cell_type": "markdown",
   "id": "5994ede8",
   "metadata": {},
   "source": [
    "We can also check for multiple conditions, for example, if it is sunny and it is past 2PM, we can get Ice-Cream. We can join the two conditions by using the and symbol like this `&`. In this example, it will have to meet both conditions for us to be able to get ice-cream\n",
    "\n",
    "Since we want it to be greater than or equal to 2PM, we can use this sign `>=`"
   ]
  },
  {
   "cell_type": "code",
   "execution_count": 7,
   "id": "00973637",
   "metadata": {},
   "outputs": [
    {
     "name": "stdout",
     "output_type": "stream",
     "text": [
      "let's go get Ice-cream\n"
     ]
    }
   ],
   "source": [
    "time = 4 #4PM\n",
    "weather = \"sunny\"\n",
    "\n",
    "if (weather == \"sunny\") & (time >= 2):\n",
    "    print(\"let's go get Ice-cream\")"
   ]
  },
  {
   "cell_type": "markdown",
   "id": "a4bbae6c",
   "metadata": {},
   "source": [
    "Let us take a look at where it doesn't meet both conditions"
   ]
  },
  {
   "cell_type": "code",
   "execution_count": 8,
   "id": "4030a280",
   "metadata": {},
   "outputs": [],
   "source": [
    "time = 4 #4PM\n",
    "weather = \"rainy\"\n",
    "\n",
    "if (weather == \"sunny\") & (time >= 2):\n",
    "    print(\"let's go get Ice-cream\")"
   ]
  },
  {
   "cell_type": "markdown",
   "id": "02cab027",
   "metadata": {},
   "source": [
    "You can see how nothing happens, this is because we did not specify an `else` statement. We don't always have to specify an `else` statement if we don't have an alternative.\n",
    "\n",
    "Let's assume we only care that one of the conditions is met. If is it rainy but past 2PM then we get ice-cream or if it is sunny but not yet 2PM, we still get Ice-cream, we can use `or` between multiple conditions to denote this. Look at an example.\n"
   ]
  },
  {
   "cell_type": "code",
   "execution_count": 12,
   "id": "c5cff834",
   "metadata": {},
   "outputs": [
    {
     "name": "stdout",
     "output_type": "stream",
     "text": [
      "let's go get Ice-cream\n"
     ]
    }
   ],
   "source": [
    "time = 4 #4PM\n",
    "weather = \"rainy\"\n",
    "\n",
    "if (weather == \"sunny\") or (time >= 2):\n",
    "    print(\"let's go get Ice-cream\")\n"
   ]
  },
  {
   "cell_type": "markdown",
   "id": "ec73434c",
   "metadata": {},
   "source": [
    "## `elif` statements"
   ]
  },
  {
   "cell_type": "markdown",
   "id": "175bf00c",
   "metadata": {},
   "source": [
    "Let's say you have multiple alternatives? For example, if it is sunny but not yet 2PM, we can say wait a little till it is 2PM OR if it is rainy but past 2PM we can hope for the sun to come out. We can set this up using the `elif` statement."
   ]
  },
  {
   "cell_type": "code",
   "execution_count": 13,
   "id": "b9e287d7",
   "metadata": {},
   "outputs": [
    {
     "name": "stdout",
     "output_type": "stream",
     "text": [
      "let's hope we get some sun today, so we can get ice-cream\n"
     ]
    }
   ],
   "source": [
    "time = 4 #4PM\n",
    "weather = \"rainy\"\n",
    "\n",
    "if (weather == \"sunny\") & (time >= 2):\n",
    "    print(\"let's go get Ice-cream\")\n",
    "elif (weather == \"sunny\") & (time < 2):\n",
    "    print(\"it is almost 2PM, be patient\")\n",
    "elif (weather == \"rainy\") & (time >= 2):\n",
    "    print(\"let's hope we get some sun today, so we can get ice-cream\")"
   ]
  },
  {
   "cell_type": "code",
   "execution_count": 15,
   "id": "1e370ed3",
   "metadata": {},
   "outputs": [
    {
     "name": "stdout",
     "output_type": "stream",
     "text": [
      "it is almost 2PM, be patient\n"
     ]
    }
   ],
   "source": [
    "time = 1 #4PM\n",
    "weather = \"sunny\"\n",
    "\n",
    "if (weather == \"sunny\") & (time >= 2):\n",
    "    print(\"let's go get Ice-cream\")\n",
    "elif (weather == \"sunny\") & (time < 2):\n",
    "    print(\"it is almost 2PM, be patient\")\n",
    "elif (weather == \"rainy\") & (time >= 2):\n",
    "    print(\"let's hope we get some sun today, so we can get ice-cream\")"
   ]
  },
  {
   "cell_type": "code",
   "execution_count": null,
   "id": "c7897844",
   "metadata": {},
   "outputs": [],
   "source": []
  }
 ],
 "metadata": {
  "kernelspec": {
   "display_name": "Python 3 (ipykernel)",
   "language": "python",
   "name": "python3"
  },
  "language_info": {
   "codemirror_mode": {
    "name": "ipython",
    "version": 3
   },
   "file_extension": ".py",
   "mimetype": "text/x-python",
   "name": "python",
   "nbconvert_exporter": "python",
   "pygments_lexer": "ipython3",
   "version": "3.9.7"
  }
 },
 "nbformat": 4,
 "nbformat_minor": 5
}
