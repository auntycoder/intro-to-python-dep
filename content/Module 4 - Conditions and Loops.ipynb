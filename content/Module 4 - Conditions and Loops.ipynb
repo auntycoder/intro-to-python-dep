{
 "cells": [
  {
   "cell_type": "markdown",
   "id": "f4d3aab5",
   "metadata": {},
   "source": [
    "<center><img src=\"https://drive.google.com/uc?id=1e5YfqAENn09l036gteEclPyCz91ecavj\" width=\"100\" height=\"100\"/></center>"
   ]
  },
  {
   "cell_type": "markdown",
   "id": "815d2f66",
   "metadata": {},
   "source": [
    "# `if`, `elif`, & `else` statements and `for` & `while` loops"
   ]
  },
  {
   "cell_type": "markdown",
   "id": "86897790",
   "metadata": {},
   "source": [
    "Author: AuntyCoder\n",
    "\n",
    "\n",
    "Duration: 1.5 hours\n",
    "\n",
    "Welcome back friends! How did you enjoy the last lesson? Today we will be going through the concepts of `if` statements and `for` loops."
   ]
  },
  {
   "cell_type": "markdown",
   "id": "a4a7d050",
   "metadata": {},
   "source": [
    "## `if` and `else` statements"
   ]
  },
  {
   "cell_type": "markdown",
   "id": "ab676930",
   "metadata": {},
   "source": [
    "`if` statements are known as conditionals, this means that if you have a situation it checks to see if it is present or true and then an action happens. Let us take a look at an example. \n",
    "\n",
    "If today is a weekday (Monday, Tuesday, Wednesday, Thursday, or Friday), then we go to school. If it is not a week day then we will go to the park.\n",
    "\n",
    "So If today is a weekday we will go to school. Else we will go to the park!"
   ]
  },
  {
   "cell_type": "markdown",
   "id": "76cee8e6",
   "metadata": {},
   "source": [
    "<center><img src=\"https://drive.google.com/uc?id=1sKqQWiLHYQMOVuS6u_wRLx1VMMn7QvfQ\" /></center>"
   ]
  },
  {
   "cell_type": "markdown",
   "id": "56c282b4",
   "metadata": {},
   "source": [
    "`if` and `else` statements look like this;\n",
    "```\n",
    "if (statement is true):\n",
    "    do something\n",
    "else:\n",
    "    (do another thing)\n",
    "```"
   ]
  },
  {
   "cell_type": "markdown",
   "id": "99682610",
   "metadata": {},
   "source": [
    "Let us take a look at that in code. Let us look at the exact example in the diagram. So if today is Monday, Tuesday, Wednesday, Thursday, or Friday put `weekday` if today is Saturday or Sunday type `weekend`."
   ]
  },
  {
   "cell_type": "code",
   "execution_count": null,
   "id": "736e5012",
   "metadata": {
    "scrolled": true
   },
   "outputs": [],
   "source": [
    "message=input(\"Is today a weekday or a weekend?\") \n",
    "\n",
    "if message ==\"weekday\": \n",
    "    print(\"Get ready and go to school!\") \n",
    "else: \n",
    "    print(\"Go to the park\") "
   ]
  },
  {
   "cell_type": "markdown",
   "id": "8610b9da",
   "metadata": {},
   "source": [
    "Let us look at an another example with integers and floats. Remember integers are whole numbers and floats are decimal numbers.\n",
    "\n",
    "Let check if 3 is greater that 4"
   ]
  },
  {
   "cell_type": "code",
   "execution_count": null,
   "id": "89fbfbfe",
   "metadata": {},
   "outputs": [],
   "source": [
    "if 3>4:\n",
    "    print(\"Yes, 3 is greater than 4\")\n",
    "else:\n",
    "    print(\"No, 3 is not greater than 4\")"
   ]
  },
  {
   "cell_type": "markdown",
   "id": "30a4ae1b",
   "metadata": {},
   "source": [
    "How about we check if 10.5 is equal to 15.2. In python, to check that, we use two equal to sign like thsi `==`"
   ]
  },
  {
   "cell_type": "code",
   "execution_count": null,
   "id": "969face1",
   "metadata": {},
   "outputs": [],
   "source": [
    "if 10.5 == 15.2:\n",
    "    print(\"10.5 is equal to 15.2\")\n",
    "else:\n",
    "    print(\"10.5 and 15.2 are not equal\")"
   ]
  },
  {
   "cell_type": "markdown",
   "id": "a6d1845b",
   "metadata": {},
   "source": [
    "We can also check for multiple conditions, for example, if it is sunny and it is past 2PM, we can get Ice-Cream. We can join the two conditions by using the and symbol like this `&`. In this example, it will have to meet both conditions for us to be able to get ice-cream\n",
    "\n",
    "Since we want it to be greater than or equal to 2PM, we can use this sign `>=`"
   ]
  },
  {
   "cell_type": "code",
   "execution_count": null,
   "id": "d6c23520",
   "metadata": {},
   "outputs": [],
   "source": [
    "time = 4 #4PM\n",
    "weather = \"sunny\"\n",
    "\n",
    "if (weather == \"sunny\") & (time >= 2):\n",
    "    print(\"let's go get Ice-cream\")"
   ]
  },
  {
   "cell_type": "markdown",
   "id": "abeb6b90",
   "metadata": {},
   "source": [
    "Let us take a look at where it doesn't meet both conditions"
   ]
  },
  {
   "cell_type": "code",
   "execution_count": null,
   "id": "e4567134",
   "metadata": {},
   "outputs": [],
   "source": [
    "time = 4 #4PM\n",
    "weather = \"rainy\"\n",
    "\n",
    "if (weather == \"sunny\") & (time >= 2):\n",
    "    print(\"let's go get Ice-cream\")"
   ]
  },
  {
   "cell_type": "markdown",
   "id": "350db9e2",
   "metadata": {},
   "source": [
    "You can see how nothing happens, this is because we did not specify an `else` statement. We don't always have to specify an `else` statement if we don't have an alternative.\n",
    "\n",
    "Let's assume we only care that one of the conditions is met. If is it rainy but past 2PM then we get ice-cream or if it is sunny but not yet 2PM, we still get Ice-cream, we can use `or` between multiple conditions to denote this. Look at an example.\n"
   ]
  },
  {
   "cell_type": "code",
   "execution_count": null,
   "id": "38b1e834",
   "metadata": {},
   "outputs": [],
   "source": [
    "time = 4 #4PM\n",
    "weather = \"rainy\"\n",
    "\n",
    "if (weather == \"sunny\") or (time >= 2):\n",
    "    print(\"let's go get Ice-cream\")\n"
   ]
  },
  {
   "cell_type": "markdown",
   "id": "2459668e",
   "metadata": {},
   "source": [
    "## `elif` statements"
   ]
  },
  {
   "cell_type": "markdown",
   "id": "f22055a6",
   "metadata": {},
   "source": [
    "Let's say you have multiple alternatives? For example, if it is sunny but not yet 2PM, we can say wait a little till it is 2PM OR if it is rainy but past 2PM we can hope for the sun to come out. We can set this up using the `elif` statement."
   ]
  },
  {
   "cell_type": "code",
   "execution_count": null,
   "id": "7f97a371",
   "metadata": {},
   "outputs": [],
   "source": [
    "time = 4 #4PM\n",
    "weather = \"rainy\"\n",
    "\n",
    "if (weather == \"sunny\") & (time >= 2):\n",
    "    print(\"let's go get Ice-cream\")\n",
    "elif (weather == \"sunny\") & (time < 2):\n",
    "    print(\"it is almost 2PM, be patient\")\n",
    "elif (weather == \"rainy\") & (time >= 2):\n",
    "    print(\"let's hope we get some sun today, so we can get ice-cream\")"
   ]
  },
  {
   "cell_type": "code",
   "execution_count": null,
   "id": "de59dc41",
   "metadata": {},
   "outputs": [],
   "source": [
    "time = 1 #4PM\n",
    "weather = \"sunny\"\n",
    "\n",
    "if (weather == \"sunny\") & (time >= 2):\n",
    "    print(\"let's go get Ice-cream\")\n",
    "elif (weather == \"sunny\") & (time < 2):\n",
    "    print(\"it is almost 2PM, be patient\")\n",
    "elif (weather == \"rainy\") & (time >= 2):\n",
    "    print(\"let's hope we get some sun today, so we can get ice-cream\")"
   ]
  },
  {
   "cell_type": "markdown",
   "id": "2e2e6a7b",
   "metadata": {},
   "source": [
    "## `for` loops"
   ]
  },
  {
   "cell_type": "markdown",
   "id": "991ffa5a",
   "metadata": {},
   "source": [
    "Loops are repetitive tasks. For example, you want to keep keep dancing or you want to keep loading the dishwasher as far as there is a plate in the sink. That is a repetitive task and you can use loops for that. "
   ]
  },
  {
   "cell_type": "markdown",
   "id": "5c0653ab",
   "metadata": {},
   "source": [
    "Let us use our famous list. Let us look at our fruit list again, we will try to print all the fruits in the list. In the past, I taught you about indexing, we learnt that if you have a list for example, `[\"🍓\", \"🍍\",\"🍊\", \"🍉\", \"🥭\", \"🍇\"]`. Strawberry is actually in the 0th position, pineapple is in the 1st position and so on. Click below for a quick refresh."
   ]
  },
  {
   "cell_type": "markdown",
   "id": "37d2e4ae",
   "metadata": {},
   "source": [
    "------------------"
   ]
  },
  {
   "cell_type": "markdown",
   "id": "75576ca8",
   "metadata": {},
   "source": [
    "<details>\n",
    "  <summary> 👉 Click me once to refresh you on indexing 👈</summary>\n",
    "\n",
    "## Indexing\n",
    "\n",
    "<center><img src=\"https://drive.google.com/uc?id=1vM9MpLnDw-rCp57HoqyVzLq8Xf6lmSpY\" width=\"300\" height=\"300\"/></center>\n",
    "\n",
    "When we run races in school or in a competition, the first person to cross the finish line is 1st, the second person to cross the finish line is 2nd, the person who crosses third is 3rd, and so on. \n",
    "\n",
    "In python it is slightly different, 0 is the first number. So the person who crosses the finish line first is actually the `0th` position and the second to cross is the `1st`, the third to cross is the 2nd, etc as shown below in the picture below:\n",
    "\n",
    "<center><img src=\"https://drive.google.com/uc?id=1EfY0M8wHCr4DcpcJUhIpq76lntcpGunL\" width=\"600\" height=\"300\"/></center>\n",
    "\n",
    "In python, we start the numbering from 0, so when we have a list with our favorite fruits, we start counting the position from 0,1,2 etc. Let us look at an example, using popular fruits in our pantries. We will start with a strawberry 🍓\n",
    "\n",
    "</details>"
   ]
  },
  {
   "cell_type": "markdown",
   "id": "93233fdc",
   "metadata": {},
   "source": [
    "-------------------"
   ]
  },
  {
   "cell_type": "markdown",
   "id": "3d8eddef",
   "metadata": {},
   "source": [
    "If we wanted to get all the numbers, we can do something like this."
   ]
  },
  {
   "cell_type": "code",
   "execution_count": null,
   "id": "8b3d8819",
   "metadata": {},
   "outputs": [],
   "source": [
    "all_fruits = [\"🍓\", \"🍍\",\"🍊\", \"🍉\", \"🥭\", \"🍇\"]"
   ]
  },
  {
   "cell_type": "markdown",
   "id": "1d7a7070",
   "metadata": {},
   "source": [
    "To get number strawberry, we will write something like this"
   ]
  },
  {
   "cell_type": "code",
   "execution_count": null,
   "id": "7a600f9b",
   "metadata": {},
   "outputs": [],
   "source": [
    "print(all_fruits[0])"
   ]
  },
  {
   "cell_type": "markdown",
   "id": "8119e16d",
   "metadata": {},
   "source": [
    "Pineapple will be"
   ]
  },
  {
   "cell_type": "code",
   "execution_count": null,
   "id": "b0fe75bd",
   "metadata": {},
   "outputs": [],
   "source": [
    "print(all_fruits[1])"
   ]
  },
  {
   "cell_type": "markdown",
   "id": "b8b6a0bf",
   "metadata": {},
   "source": [
    "That is a lot of work! Can we just tell python to print us all the fruits? YES, WE CAN! Let us try it with a `for` loop. The for loop says that for every fruit in the list, print it out for me. We write it in code like this.\n",
    "\n",
    "```\n",
    "for fruit in all_fruits:\n",
    "    print(fruit)\n",
    "```\n",
    "\n",
    "`fruit` refers to the individual fruit in the `all_fruits` list"
   ]
  },
  {
   "cell_type": "code",
   "execution_count": null,
   "id": "c8a7599c",
   "metadata": {},
   "outputs": [],
   "source": [
    "for fruit in all_fruits:\n",
    "    print(fruit)"
   ]
  },
  {
   "cell_type": "markdown",
   "id": "885e2903",
   "metadata": {},
   "source": [
    "Woow! It printed us all the fruits in the list! that was easy. Let us do something fun. Let us double each of the fruits in the fruit list when we call them. to do that, we just multiply the fruit by 2!"
   ]
  },
  {
   "cell_type": "code",
   "execution_count": null,
   "id": "dbcc08fb",
   "metadata": {},
   "outputs": [],
   "source": [
    "for fruit in all_fruits:\n",
    "    print(fruit * 2)"
   ]
  },
  {
   "cell_type": "markdown",
   "id": "a4fe8f55",
   "metadata": {},
   "source": [
    "This is magical! What if we wanted to add a banana to each fruit? What can we do?"
   ]
  },
  {
   "cell_type": "code",
   "execution_count": null,
   "id": "1239ccf3",
   "metadata": {},
   "outputs": [],
   "source": [
    "for fruit in all_fruits:\n",
    "    print(fruit + \"🍌\")"
   ]
  },
  {
   "cell_type": "markdown",
   "id": "dbbce7b2",
   "metadata": {},
   "source": [
    "We can do so many things with our fruits list and we will learn that in a more advanced class."
   ]
  },
  {
   "cell_type": "markdown",
   "id": "b9940a5f",
   "metadata": {},
   "source": [
    "Let us take a look at a list with numbers 1-10."
   ]
  },
  {
   "cell_type": "code",
   "execution_count": null,
   "id": "97fd8e3c",
   "metadata": {},
   "outputs": [],
   "source": [
    "numbers_list = [1, 2, 3, 4, 5, 6, 7, 8, 9, 10, 11, 12]"
   ]
  },
  {
   "cell_type": "markdown",
   "id": "56245337",
   "metadata": {},
   "source": [
    "I remember the multiplication table, I receited it every morning in elementary school. Python can help you learn it too and do the math for you! Let us double each number in our numbers_list."
   ]
  },
  {
   "cell_type": "code",
   "execution_count": null,
   "id": "a80e319b",
   "metadata": {},
   "outputs": [],
   "source": [
    "for number in numbers_list:\n",
    "    print(number * 2)"
   ]
  },
  {
   "cell_type": "markdown",
   "id": "befd9452",
   "metadata": {},
   "source": [
    "We can do anything we want with ours numbers in the numbers_list. Let us do something from the first class.\n",
    "- Step one: Let us save `2` to a variable called times_two and then create a loop\n",
    "- Step two: Let us multiply each number and save each doubled value to a varible called double_value\n",
    "- Step three: Let us print each number multiplied by two = answer, for example, `\"1 x 2 = 2\", \"2 x 2 = 4\"`. Hint, we use an `f` string.\n",
    "\n",
    "Let's do this in code!"
   ]
  },
  {
   "cell_type": "code",
   "execution_count": null,
   "id": "64656b5d",
   "metadata": {},
   "outputs": [],
   "source": [
    "times_two = 2\n",
    "for number in numbers_list:\n",
    "    double_value = number * times_two\n",
    "    print(f\"{number} x {times_two} = {double_value}\")"
   ]
  },
  {
   "cell_type": "markdown",
   "id": "c2cfe543",
   "metadata": {},
   "source": [
    "You are a pro-coder now! Good job! 👏"
   ]
  },
  {
   "cell_type": "markdown",
   "id": "69042a31",
   "metadata": {},
   "source": [
    "## `while` loops"
   ]
  },
  {
   "cell_type": "markdown",
   "id": "673356b9",
   "metadata": {},
   "source": [
    "Let us go into `while` loops. A `while` loops is a loop that keeps going as far as something is true. For example, while the switch of your fan is on, your fan will continue to rotate until you turn on the switch. Your `while` loop looks like this:\n",
    "\n",
    "```\n",
    "while (something is true):\n",
    "    keep doing\n",
    "```\n",
    "\n",
    "For example; \n",
    "```\n",
    "while fan switch is on:\n",
    "    keep rotating\n",
    "```"
   ]
  },
  {
   "cell_type": "markdown",
   "id": "4dedd8b8",
   "metadata": {},
   "source": [
    "<center><img src=\"https://drive.google.com/uc?id=1j19BqvtmuGkPFnU2_ZBo0Sq19adSKO3k\" width=\"359\" height=\"432\"/></center>\n",
    "\n",
    "<center>image from tutorialspoint.com</center>"
   ]
  },
  {
   "cell_type": "markdown",
   "id": "f86f051c",
   "metadata": {},
   "source": [
    "Take a look at the above diagram, the while loop keeps going as far as the condition is true. In steps, what happens is that:\n",
    "- Step 1: The `while` loop checks to see if the condition is true\n",
    "- Step 2: If the condition is True, it will keep doing what you asked it to do\n",
    "- Step 3: It goes back to step 1, to check if the condition is true and keeps going.\n",
    "- Step 4: Once the condition is False, the while loop stops.\n",
    "\n",
    "\n",
    "Let take a look at an example, where we add 1 plate to our dishwasher until there are no dirty plates in the sink.\n",
    "\n",
    "Let's say we have 10 dirty plates in the sink."
   ]
  },
  {
   "cell_type": "markdown",
   "id": "180fef8e",
   "metadata": {},
   "source": [
    "<center><img src=\"https://drive.google.com/uc?id=1Bkj53XM66dGsUPfARGPgseCR8AKOqz0B\"/></center>"
   ]
  },
  {
   "cell_type": "markdown",
   "id": "78ac5ea6",
   "metadata": {},
   "source": [
    "First we tell python how many dirty plates are in the sink and washer, so that it knows what to do."
   ]
  },
  {
   "cell_type": "code",
   "execution_count": null,
   "id": "a89333ff",
   "metadata": {},
   "outputs": [],
   "source": [
    "plates_in_sink = 10\n",
    "plates_in_washer = 0"
   ]
  },
  {
   "cell_type": "markdown",
   "id": "ceeaa5c5",
   "metadata": {},
   "source": [
    "Let us create the while loop"
   ]
  },
  {
   "cell_type": "code",
   "execution_count": null,
   "id": "49a44e16",
   "metadata": {},
   "outputs": [],
   "source": [
    "while plates_in_washer < plates_in_sink:\n",
    "    plates_in_washer = plates_in_washer + 1\n",
    "    ## let us print to see what is going on\n",
    "    print(f\"There are {plates_in_washer} and there are still {plates_in_sink - plates_in_washer} in the sink\")\n",
    "print(\"---\")\n",
    "print(f\"We have loaded all {plates_in_washer} in the washer\")"
   ]
  },
  {
   "cell_type": "markdown",
   "id": "4e063650",
   "metadata": {},
   "source": [
    "Let us create a small game using the `while` loop."
   ]
  },
  {
   "cell_type": "code",
   "execution_count": null,
   "id": "8de6c564",
   "metadata": {},
   "outputs": [],
   "source": [
    "play = 0\n",
    "\n",
    "while input(\"do you want to play, (type yes or no only)\") == \"yes\":\n",
    "    play = play + 1\n",
    "    print(f\"you have played {play} times\")"
   ]
  },
  {
   "cell_type": "markdown",
   "id": "8fa9f168",
   "metadata": {},
   "source": [
    "We will use loops and conditions more in the future, but this is a simple introduction.\n",
    "\n",
    "You have learnt how;\n",
    "- `if`, `elif`, and `else` statements work, when picking between alternatives\n",
    "- `for` loops work for repeated tasks, and \n",
    "- `while` loops work for repeated tasks as far as a condition is true!\n",
    "<p>\n",
    "    </p>\n",
    "\n",
    "<center>\n",
    "YOU are excellent! See you next class.\n",
    "</center>\n",
    "<center>\n",
    "Remember if you have any issues or questions, send us a message at auntycoder@gmail.com\n",
    "</center>"
   ]
  }
 ],
 "metadata": {
  "kernelspec": {
   "display_name": "Python 3 (ipykernel)",
   "language": "python",
   "name": "python3"
  },
  "language_info": {
   "codemirror_mode": {
    "name": "ipython",
    "version": 3
   },
   "file_extension": ".py",
   "mimetype": "text/x-python",
   "name": "python",
   "nbconvert_exporter": "python",
   "pygments_lexer": "ipython3",
   "version": "3.9.7"
  }
 },
 "nbformat": 4,
 "nbformat_minor": 5
}
